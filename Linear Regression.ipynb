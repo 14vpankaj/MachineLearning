{
 "cells": [
  {
   "cell_type": "markdown",
   "id": "fe0f7c91",
   "metadata": {},
   "source": [
    "### Linear Regression"
   ]
  },
  {
   "cell_type": "markdown",
   "id": "968ce784",
   "metadata": {},
   "source": [
    "Machine Learning is the scientific process of developing an algorithm that learns the pattern from training data and performs inferences on test data. If a machine learning process is meant to predict some output value, it is called supervised learning. On the other hand, if there is no output value prediction, it is called unsupervised learning. "
   ]
  },
  {
   "cell_type": "markdown",
   "id": "27b4bf90",
   "metadata": {},
   "source": [
    "Training data in **supervised learning** contains a set of features and a target. The machine learning algorithm learns from the features to map corresponding targets. Test data contains only features so that the model should predict the targets. Features and targets are also called independent variables and dependent variables, respectively. **Training data in unsupervised learning contains only features but not any target.** Rather than mapping features and targets as in supervised learning, an unsupervised learning model performs clustering (grouping) the input data based on the patterns among them."
   ]
  },
  {
   "cell_type": "markdown",
   "id": "ddf92235",
   "metadata": {},
   "source": [
    "Supervised learning is classified into two categories: \n",
    "\n",
    "1. Regression \n",
    "2. Classification\n",
    "\n",
    "**Supervised learning is called regression if the dependent variable (aka target) is continuous. Supervised learning is called classification if the dependent variable is discrete.** In other words, a regression model outputs a numerical value (a real floating value), but a classification model outputs a class (among two or more classes)."
   ]
  },
  {
   "cell_type": "markdown",
   "id": "d7f86ae3",
   "metadata": {},
   "source": [
    "Linear regression is a linear model, e.g. a model that assumes a linear relationship between the input variables (x) and the single output variable (y). More specifically, that y can be calculated from a linear combination of the input variables (x).\n",
    "\n",
    "When there is a single input variable (x), the method is referred to as **simple linear regression**. When there are multiple input variables, literature from statistics often refers to the method as **multiple linear regression**.\n",
    "\n",
    "Different techniques can be used to prepare or train the linear regression equation from data, the most common of which is called **Ordinary Least Squares**."
   ]
  },
  {
   "cell_type": "markdown",
   "id": "b9e1e0be",
   "metadata": {},
   "source": [
    "**The core idea is to obtain a line that best fits the data. The best fit line is the one for which total prediction error (all data points) are as small as possible. Error is the distance between the point to the regression line.**"
   ]
  },
  {
   "cell_type": "markdown",
   "id": "aedcef68",
   "metadata": {},
   "source": [
    "### 1. Simple Linear Regression\n",
    "\n",
    "With simple linear regression when we have a single input, we can use statistics to estimate the coefficients.\n",
    "\n",
    "This requires that you calculate statistical properties from the data such as means, standard deviations, correlations and covariance. All of the data must be available to traverse and calculate statistics."
   ]
  },
  {
   "cell_type": "markdown",
   "id": "be093ddf",
   "metadata": {},
   "source": [
    "### 2. Ordinary Least Squares\n",
    "\n",
    "When we have more than one input we can use Ordinary Least Squares to estimate the values of the coefficients.\n",
    "\n",
    "The Ordinary Least Squares procedure seeks to minimize the sum of the squared residuals. This means that given a regression line through the data we calculate the distance from each data point to the regression line, square it, and sum all of the squared errors together. This is the quantity that ordinary least squares seeks to minimize.\n",
    "\n",
    "This approach treats the data as a matrix and uses linear algebra operations to estimate the optimal values for the coefficients. It means that all of the data must be available and you must have enough memory to fit the data and perform matrix operations."
   ]
  },
  {
   "cell_type": "markdown",
   "id": "df1ebb80",
   "metadata": {},
   "source": [
    "### 3. Gradient Descent\n",
    "\n",
    "When there are one or more inputs you can use a process of optimizing the values of the coefficients by iteratively minimizing the error of the model on your training data.\n",
    "\n",
    "This operation is called Gradient Descent and works by starting with random values for each coefficient. The sum of the squared errors are calculated for each pair of input and output values. A learning rate is used as a scale factor and the coefficients are updated in the direction towards minimizing the error. The process is repeated until a minimum sum squared error is achieved or no further improvement is possible.\n",
    "\n",
    "When using this method, you must select a learning rate (alpha) parameter that determines the size of the improvement step to take on each iteration of the procedure."
   ]
  },
  {
   "cell_type": "markdown",
   "id": "bba0799e",
   "metadata": {},
   "source": [
    "### 4. Regularization\n",
    "\n",
    "There are extensions of the training of the linear model called regularization methods. These seek to both minimize the sum of the squared error of the model on the training data (using ordinary least squares) but also to reduce the complexity of the model (like the number or absolute size of the sum of all coefficients in the model).\n",
    "\n",
    "Two popular examples of regularization procedures for linear regression are:\n",
    "\n",
    "**Lasso Regression**: where Ordinary Least Squares is modified to also minimize the absolute sum of the coefficients (called L1 regularization).\n",
    "\n",
    "**Ridge Regression**: where Ordinary Least Squares is modified to also minimize the squared absolute sum of the coefficients (called L2 regularization).\n",
    "These methods are effective to use when there is collinearity in your input values and ordinary least squares would overfit the training data."
   ]
  },
  {
   "cell_type": "markdown",
   "id": "47feebcc",
   "metadata": {},
   "source": [
    "### The Math behind Linear Regression"
   ]
  },
  {
   "cell_type": "markdown",
   "id": "5621069a",
   "metadata": {},
   "source": [
    "Suppose a collection of data has two variables: one is the independent variable (X), and another is the dependent variable (Y). \n",
    "\n",
    "If the relationship between Y and X can be expressed as:\n",
    "\n",
    "Y = mX + c, this is called linear regression. Here, X is linearly scaled with a weight m to determine the value of Y and c is called bias or y-intercept with which the dependency offsets. A machine learning model has to determine the most suitable values for weight, m and bias, c. If there are more than one independent variable, there will be a corresponding number of weights, w1, w2, w3, and so on."
   ]
  },
  {
   "cell_type": "markdown",
   "id": "63078c4c",
   "metadata": {},
   "source": [
    "Typically, a machine learning problem contains a remarkable amount of data. A linear regression model assigns random values to weights and bias at the beginning. When learning commences, the model is fed with one data point in each step. It fits the X values and determines the target. Since weights are randomly assigned initially, the predicted target will differ greatly from the actual target. **The model calculates the difference between the actual target value and the predicted target value, which is called the loss. The model scientifically reassigns the values of weights to reduce this loss. With each data point, the model iteratively attempts to find suitable weights that yield minimum loss.**"
   ]
  },
  {
   "cell_type": "markdown",
   "id": "0adf6993",
   "metadata": {},
   "source": [
    "The most preferred losses are mean absolute error (MAE) and mean squared error (MSE)."
   ]
  },
  {
   "cell_type": "markdown",
   "id": "5110e702",
   "metadata": {},
   "source": [
    "### Mean Absolute Error(MAE)"
   ]
  },
  {
   "cell_type": "markdown",
   "id": "7f40b338",
   "metadata": {},
   "source": [
    "Mean absolute error is the mean value of the sum of differences between predicted and actual target values for all data points."
   ]
  },
  {
   "cell_type": "markdown",
   "id": "c9702296",
   "metadata": {},
   "source": [
    "### Mean Squared Error(MSE)"
   ]
  },
  {
   "cell_type": "markdown",
   "id": "f2fa8b32",
   "metadata": {},
   "source": [
    "Mean squared error is the mean value of the sum of squares of differences between predicted and actual target values for all data points."
   ]
  },
  {
   "cell_type": "markdown",
   "id": "bb8e8d4c",
   "metadata": {},
   "source": [
    "Linear regression employs mean squared error (MSE) as its loss function. When learning is finished, the loss value will be at its minimum. In other words, the predicted value will be as close as possible to the actual target value."
   ]
  },
  {
   "cell_type": "code",
   "execution_count": 1,
   "id": "2e001e26",
   "metadata": {},
   "outputs": [],
   "source": [
    "import pandas as pd\n",
    "import numpy as np\n",
    "import matplotlib.pyplot as plt\n",
    "from sklearn.linear_model import LinearRegression\n",
    "from sklearn.datasets import load_diabetes"
   ]
  },
  {
   "cell_type": "code",
   "execution_count": 3,
   "id": "03b127bf",
   "metadata": {},
   "outputs": [
    {
     "data": {
      "text/plain": [
       "{'data': array([[ 0.03807591,  0.05068012,  0.06169621, ..., -0.00259226,\n",
       "          0.01990842, -0.01764613],\n",
       "        [-0.00188202, -0.04464164, -0.05147406, ..., -0.03949338,\n",
       "         -0.06832974, -0.09220405],\n",
       "        [ 0.08529891,  0.05068012,  0.04445121, ..., -0.00259226,\n",
       "          0.00286377, -0.02593034],\n",
       "        ...,\n",
       "        [ 0.04170844,  0.05068012, -0.01590626, ..., -0.01107952,\n",
       "         -0.04687948,  0.01549073],\n",
       "        [-0.04547248, -0.04464164,  0.03906215, ...,  0.02655962,\n",
       "          0.04452837, -0.02593034],\n",
       "        [-0.04547248, -0.04464164, -0.0730303 , ..., -0.03949338,\n",
       "         -0.00421986,  0.00306441]]),\n",
       " 'target': array([151.,  75., 141., 206., 135.,  97., 138.,  63., 110., 310., 101.,\n",
       "         69., 179., 185., 118., 171., 166., 144.,  97., 168.,  68.,  49.,\n",
       "         68., 245., 184., 202., 137.,  85., 131., 283., 129.,  59., 341.,\n",
       "         87.,  65., 102., 265., 276., 252.,  90., 100.,  55.,  61.,  92.,\n",
       "        259.,  53., 190., 142.,  75., 142., 155., 225.,  59., 104., 182.,\n",
       "        128.,  52.,  37., 170., 170.,  61., 144.,  52., 128.,  71., 163.,\n",
       "        150.,  97., 160., 178.,  48., 270., 202., 111.,  85.,  42., 170.,\n",
       "        200., 252., 113., 143.,  51.,  52., 210.,  65., 141.,  55., 134.,\n",
       "         42., 111.,  98., 164.,  48.,  96.,  90., 162., 150., 279.,  92.,\n",
       "         83., 128., 102., 302., 198.,  95.,  53., 134., 144., 232.,  81.,\n",
       "        104.,  59., 246., 297., 258., 229., 275., 281., 179., 200., 200.,\n",
       "        173., 180.,  84., 121., 161.,  99., 109., 115., 268., 274., 158.,\n",
       "        107.,  83., 103., 272.,  85., 280., 336., 281., 118., 317., 235.,\n",
       "         60., 174., 259., 178., 128.,  96., 126., 288.,  88., 292.,  71.,\n",
       "        197., 186.,  25.,  84.,  96., 195.,  53., 217., 172., 131., 214.,\n",
       "         59.,  70., 220., 268., 152.,  47.,  74., 295., 101., 151., 127.,\n",
       "        237., 225.,  81., 151., 107.,  64., 138., 185., 265., 101., 137.,\n",
       "        143., 141.,  79., 292., 178.,  91., 116.,  86., 122.,  72., 129.,\n",
       "        142.,  90., 158.,  39., 196., 222., 277.,  99., 196., 202., 155.,\n",
       "         77., 191.,  70.,  73.,  49.,  65., 263., 248., 296., 214., 185.,\n",
       "         78.,  93., 252., 150.,  77., 208.,  77., 108., 160.,  53., 220.,\n",
       "        154., 259.,  90., 246., 124.,  67.,  72., 257., 262., 275., 177.,\n",
       "         71.,  47., 187., 125.,  78.,  51., 258., 215., 303., 243.,  91.,\n",
       "        150., 310., 153., 346.,  63.,  89.,  50.,  39., 103., 308., 116.,\n",
       "        145.,  74.,  45., 115., 264.,  87., 202., 127., 182., 241.,  66.,\n",
       "         94., 283.,  64., 102., 200., 265.,  94., 230., 181., 156., 233.,\n",
       "         60., 219.,  80.,  68., 332., 248.,  84., 200.,  55.,  85.,  89.,\n",
       "         31., 129.,  83., 275.,  65., 198., 236., 253., 124.,  44., 172.,\n",
       "        114., 142., 109., 180., 144., 163., 147.,  97., 220., 190., 109.,\n",
       "        191., 122., 230., 242., 248., 249., 192., 131., 237.,  78., 135.,\n",
       "        244., 199., 270., 164.,  72.,  96., 306.,  91., 214.,  95., 216.,\n",
       "        263., 178., 113., 200., 139., 139.,  88., 148.,  88., 243.,  71.,\n",
       "         77., 109., 272.,  60.,  54., 221.,  90., 311., 281., 182., 321.,\n",
       "         58., 262., 206., 233., 242., 123., 167.,  63., 197.,  71., 168.,\n",
       "        140., 217., 121., 235., 245.,  40.,  52., 104., 132.,  88.,  69.,\n",
       "        219.,  72., 201., 110.,  51., 277.,  63., 118.,  69., 273., 258.,\n",
       "         43., 198., 242., 232., 175.,  93., 168., 275., 293., 281.,  72.,\n",
       "        140., 189., 181., 209., 136., 261., 113., 131., 174., 257.,  55.,\n",
       "         84.,  42., 146., 212., 233.,  91., 111., 152., 120.,  67., 310.,\n",
       "         94., 183.,  66., 173.,  72.,  49.,  64.,  48., 178., 104., 132.,\n",
       "        220.,  57.]),\n",
       " 'frame': None,\n",
       " 'DESCR': '.. _diabetes_dataset:\\n\\nDiabetes dataset\\n----------------\\n\\nTen baseline variables, age, sex, body mass index, average blood\\npressure, and six blood serum measurements were obtained for each of n =\\n442 diabetes patients, as well as the response of interest, a\\nquantitative measure of disease progression one year after baseline.\\n\\n**Data Set Characteristics:**\\n\\n  :Number of Instances: 442\\n\\n  :Number of Attributes: First 10 columns are numeric predictive values\\n\\n  :Target: Column 11 is a quantitative measure of disease progression one year after baseline\\n\\n  :Attribute Information:\\n      - age     age in years\\n      - sex\\n      - bmi     body mass index\\n      - bp      average blood pressure\\n      - s1      tc, T-Cells (a type of white blood cells)\\n      - s2      ldl, low-density lipoproteins\\n      - s3      hdl, high-density lipoproteins\\n      - s4      tch, thyroid stimulating hormone\\n      - s5      ltg, lamotrigine\\n      - s6      glu, blood sugar level\\n\\nNote: Each of these 10 feature variables have been mean centered and scaled by the standard deviation times `n_samples` (i.e. the sum of squares of each column totals 1).\\n\\nSource URL:\\nhttps://www4.stat.ncsu.edu/~boos/var.select/diabetes.html\\n\\nFor more information see:\\nBradley Efron, Trevor Hastie, Iain Johnstone and Robert Tibshirani (2004) \"Least Angle Regression,\" Annals of Statistics (with discussion), 407-499.\\n(https://web.stanford.edu/~hastie/Papers/LARS/LeastAngle_2002.pdf)',\n",
       " 'feature_names': ['age',\n",
       "  'sex',\n",
       "  'bmi',\n",
       "  'bp',\n",
       "  's1',\n",
       "  's2',\n",
       "  's3',\n",
       "  's4',\n",
       "  's5',\n",
       "  's6'],\n",
       " 'data_filename': 'C:\\\\Users\\\\panka\\\\anaconda3\\\\lib\\\\site-packages\\\\sklearn\\\\datasets\\\\data\\\\diabetes_data.csv.gz',\n",
       " 'target_filename': 'C:\\\\Users\\\\panka\\\\anaconda3\\\\lib\\\\site-packages\\\\sklearn\\\\datasets\\\\data\\\\diabetes_target.csv.gz'}"
      ]
     },
     "execution_count": 3,
     "metadata": {},
     "output_type": "execute_result"
    }
   ],
   "source": [
    "data = load_diabetes()\n",
    "data"
   ]
  },
  {
   "cell_type": "code",
   "execution_count": 4,
   "id": "2fd88cc8",
   "metadata": {},
   "outputs": [
    {
     "data": {
      "text/plain": [
       "dict_keys(['data', 'target', 'frame', 'DESCR', 'feature_names', 'data_filename', 'target_filename'])"
      ]
     },
     "execution_count": 4,
     "metadata": {},
     "output_type": "execute_result"
    }
   ],
   "source": [
    "data.keys()"
   ]
  },
  {
   "cell_type": "code",
   "execution_count": 10,
   "id": "2e7544b9",
   "metadata": {},
   "outputs": [
    {
     "data": {
      "text/html": [
       "<div>\n",
       "<style scoped>\n",
       "    .dataframe tbody tr th:only-of-type {\n",
       "        vertical-align: middle;\n",
       "    }\n",
       "\n",
       "    .dataframe tbody tr th {\n",
       "        vertical-align: top;\n",
       "    }\n",
       "\n",
       "    .dataframe thead th {\n",
       "        text-align: right;\n",
       "    }\n",
       "</style>\n",
       "<table border=\"1\" class=\"dataframe\">\n",
       "  <thead>\n",
       "    <tr style=\"text-align: right;\">\n",
       "      <th></th>\n",
       "      <th>age</th>\n",
       "      <th>sex</th>\n",
       "      <th>bmi</th>\n",
       "      <th>bp</th>\n",
       "      <th>s1</th>\n",
       "      <th>s2</th>\n",
       "      <th>s3</th>\n",
       "      <th>s4</th>\n",
       "      <th>s5</th>\n",
       "      <th>s6</th>\n",
       "    </tr>\n",
       "  </thead>\n",
       "  <tbody>\n",
       "    <tr>\n",
       "      <th>0</th>\n",
       "      <td>0.038076</td>\n",
       "      <td>0.050680</td>\n",
       "      <td>0.061696</td>\n",
       "      <td>0.021872</td>\n",
       "      <td>-0.044223</td>\n",
       "      <td>-0.034821</td>\n",
       "      <td>-0.043401</td>\n",
       "      <td>-0.002592</td>\n",
       "      <td>0.019908</td>\n",
       "      <td>-0.017646</td>\n",
       "    </tr>\n",
       "    <tr>\n",
       "      <th>1</th>\n",
       "      <td>-0.001882</td>\n",
       "      <td>-0.044642</td>\n",
       "      <td>-0.051474</td>\n",
       "      <td>-0.026328</td>\n",
       "      <td>-0.008449</td>\n",
       "      <td>-0.019163</td>\n",
       "      <td>0.074412</td>\n",
       "      <td>-0.039493</td>\n",
       "      <td>-0.068330</td>\n",
       "      <td>-0.092204</td>\n",
       "    </tr>\n",
       "    <tr>\n",
       "      <th>2</th>\n",
       "      <td>0.085299</td>\n",
       "      <td>0.050680</td>\n",
       "      <td>0.044451</td>\n",
       "      <td>-0.005671</td>\n",
       "      <td>-0.045599</td>\n",
       "      <td>-0.034194</td>\n",
       "      <td>-0.032356</td>\n",
       "      <td>-0.002592</td>\n",
       "      <td>0.002864</td>\n",
       "      <td>-0.025930</td>\n",
       "    </tr>\n",
       "    <tr>\n",
       "      <th>3</th>\n",
       "      <td>-0.089063</td>\n",
       "      <td>-0.044642</td>\n",
       "      <td>-0.011595</td>\n",
       "      <td>-0.036656</td>\n",
       "      <td>0.012191</td>\n",
       "      <td>0.024991</td>\n",
       "      <td>-0.036038</td>\n",
       "      <td>0.034309</td>\n",
       "      <td>0.022692</td>\n",
       "      <td>-0.009362</td>\n",
       "    </tr>\n",
       "    <tr>\n",
       "      <th>4</th>\n",
       "      <td>0.005383</td>\n",
       "      <td>-0.044642</td>\n",
       "      <td>-0.036385</td>\n",
       "      <td>0.021872</td>\n",
       "      <td>0.003935</td>\n",
       "      <td>0.015596</td>\n",
       "      <td>0.008142</td>\n",
       "      <td>-0.002592</td>\n",
       "      <td>-0.031991</td>\n",
       "      <td>-0.046641</td>\n",
       "    </tr>\n",
       "    <tr>\n",
       "      <th>...</th>\n",
       "      <td>...</td>\n",
       "      <td>...</td>\n",
       "      <td>...</td>\n",
       "      <td>...</td>\n",
       "      <td>...</td>\n",
       "      <td>...</td>\n",
       "      <td>...</td>\n",
       "      <td>...</td>\n",
       "      <td>...</td>\n",
       "      <td>...</td>\n",
       "    </tr>\n",
       "    <tr>\n",
       "      <th>437</th>\n",
       "      <td>0.041708</td>\n",
       "      <td>0.050680</td>\n",
       "      <td>0.019662</td>\n",
       "      <td>0.059744</td>\n",
       "      <td>-0.005697</td>\n",
       "      <td>-0.002566</td>\n",
       "      <td>-0.028674</td>\n",
       "      <td>-0.002592</td>\n",
       "      <td>0.031193</td>\n",
       "      <td>0.007207</td>\n",
       "    </tr>\n",
       "    <tr>\n",
       "      <th>438</th>\n",
       "      <td>-0.005515</td>\n",
       "      <td>0.050680</td>\n",
       "      <td>-0.015906</td>\n",
       "      <td>-0.067642</td>\n",
       "      <td>0.049341</td>\n",
       "      <td>0.079165</td>\n",
       "      <td>-0.028674</td>\n",
       "      <td>0.034309</td>\n",
       "      <td>-0.018118</td>\n",
       "      <td>0.044485</td>\n",
       "    </tr>\n",
       "    <tr>\n",
       "      <th>439</th>\n",
       "      <td>0.041708</td>\n",
       "      <td>0.050680</td>\n",
       "      <td>-0.015906</td>\n",
       "      <td>0.017282</td>\n",
       "      <td>-0.037344</td>\n",
       "      <td>-0.013840</td>\n",
       "      <td>-0.024993</td>\n",
       "      <td>-0.011080</td>\n",
       "      <td>-0.046879</td>\n",
       "      <td>0.015491</td>\n",
       "    </tr>\n",
       "    <tr>\n",
       "      <th>440</th>\n",
       "      <td>-0.045472</td>\n",
       "      <td>-0.044642</td>\n",
       "      <td>0.039062</td>\n",
       "      <td>0.001215</td>\n",
       "      <td>0.016318</td>\n",
       "      <td>0.015283</td>\n",
       "      <td>-0.028674</td>\n",
       "      <td>0.026560</td>\n",
       "      <td>0.044528</td>\n",
       "      <td>-0.025930</td>\n",
       "    </tr>\n",
       "    <tr>\n",
       "      <th>441</th>\n",
       "      <td>-0.045472</td>\n",
       "      <td>-0.044642</td>\n",
       "      <td>-0.073030</td>\n",
       "      <td>-0.081414</td>\n",
       "      <td>0.083740</td>\n",
       "      <td>0.027809</td>\n",
       "      <td>0.173816</td>\n",
       "      <td>-0.039493</td>\n",
       "      <td>-0.004220</td>\n",
       "      <td>0.003064</td>\n",
       "    </tr>\n",
       "  </tbody>\n",
       "</table>\n",
       "<p>442 rows × 10 columns</p>\n",
       "</div>"
      ],
      "text/plain": [
       "          age       sex       bmi        bp        s1        s2        s3  \\\n",
       "0    0.038076  0.050680  0.061696  0.021872 -0.044223 -0.034821 -0.043401   \n",
       "1   -0.001882 -0.044642 -0.051474 -0.026328 -0.008449 -0.019163  0.074412   \n",
       "2    0.085299  0.050680  0.044451 -0.005671 -0.045599 -0.034194 -0.032356   \n",
       "3   -0.089063 -0.044642 -0.011595 -0.036656  0.012191  0.024991 -0.036038   \n",
       "4    0.005383 -0.044642 -0.036385  0.021872  0.003935  0.015596  0.008142   \n",
       "..        ...       ...       ...       ...       ...       ...       ...   \n",
       "437  0.041708  0.050680  0.019662  0.059744 -0.005697 -0.002566 -0.028674   \n",
       "438 -0.005515  0.050680 -0.015906 -0.067642  0.049341  0.079165 -0.028674   \n",
       "439  0.041708  0.050680 -0.015906  0.017282 -0.037344 -0.013840 -0.024993   \n",
       "440 -0.045472 -0.044642  0.039062  0.001215  0.016318  0.015283 -0.028674   \n",
       "441 -0.045472 -0.044642 -0.073030 -0.081414  0.083740  0.027809  0.173816   \n",
       "\n",
       "           s4        s5        s6  \n",
       "0   -0.002592  0.019908 -0.017646  \n",
       "1   -0.039493 -0.068330 -0.092204  \n",
       "2   -0.002592  0.002864 -0.025930  \n",
       "3    0.034309  0.022692 -0.009362  \n",
       "4   -0.002592 -0.031991 -0.046641  \n",
       "..        ...       ...       ...  \n",
       "437 -0.002592  0.031193  0.007207  \n",
       "438  0.034309 -0.018118  0.044485  \n",
       "439 -0.011080 -0.046879  0.015491  \n",
       "440  0.026560  0.044528 -0.025930  \n",
       "441 -0.039493 -0.004220  0.003064  \n",
       "\n",
       "[442 rows x 10 columns]"
      ]
     },
     "execution_count": 10,
     "metadata": {},
     "output_type": "execute_result"
    }
   ],
   "source": [
    "#Generate features and target. Visualize the top 5 rows of the data.\n",
    "features=pd.DataFrame(data['data'], columns=data['feature_names'])\n",
    "target=pd.Series(data['target'], name='target')\n",
    "features"
   ]
  },
  {
   "cell_type": "code",
   "execution_count": 11,
   "id": "57b9319b",
   "metadata": {},
   "outputs": [
    {
     "data": {
      "text/plain": [
       "0      151.0\n",
       "1       75.0\n",
       "2      141.0\n",
       "3      206.0\n",
       "4      135.0\n",
       "       ...  \n",
       "437    178.0\n",
       "438    104.0\n",
       "439    132.0\n",
       "440    220.0\n",
       "441     57.0\n",
       "Name: target, Length: 442, dtype: float64"
      ]
     },
     "execution_count": 11,
     "metadata": {},
     "output_type": "execute_result"
    }
   ],
   "source": [
    "target"
   ]
  },
  {
   "cell_type": "markdown",
   "id": "21d81491",
   "metadata": {},
   "source": [
    "### Simple Linear Regression\n",
    "\n",
    "Simple linear regression is performed with one dependent variable and one independent variable. In our data, we declare the feature ‘bmi’ to be the independent variable."
   ]
  },
  {
   "cell_type": "code",
   "execution_count": 33,
   "id": "4c32ae71",
   "metadata": {},
   "outputs": [],
   "source": [
    "# Prepare X and y.\n",
    "X = features['bmi'].values.reshape(-1,1)\n",
    "y = target.values.reshape(-1,1) "
   ]
  },
  {
   "cell_type": "code",
   "execution_count": 34,
   "id": "a4c7eb33",
   "metadata": {},
   "outputs": [
    {
     "data": {
      "text/plain": [
       "LinearRegression()"
      ]
     },
     "execution_count": 34,
     "metadata": {},
     "output_type": "execute_result"
    }
   ],
   "source": [
    "# Perform linear regression.\n",
    "simple = LinearRegression()\n",
    "simple.fit(X,y)\n",
    "# The training is completed. We can explore the weight (coefficient) and bias (intercept) of the trained model."
   ]
  },
  {
   "cell_type": "code",
   "execution_count": 35,
   "id": "6ada01e2",
   "metadata": {},
   "outputs": [
    {
     "data": {
      "text/plain": [
       "array([[949.43526038]])"
      ]
     },
     "execution_count": 35,
     "metadata": {},
     "output_type": "execute_result"
    }
   ],
   "source": [
    "simple.coef_"
   ]
  },
  {
   "cell_type": "code",
   "execution_count": 36,
   "id": "0fd31c7a",
   "metadata": {},
   "outputs": [
    {
     "data": {
      "text/plain": [
       "array([152.13348416])"
      ]
     },
     "execution_count": 36,
     "metadata": {},
     "output_type": "execute_result"
    }
   ],
   "source": [
    "simple.intercept_"
   ]
  },
  {
   "cell_type": "code",
   "execution_count": 37,
   "id": "8116f988",
   "metadata": {},
   "outputs": [
    {
     "data": {
      "text/plain": [
       "array([[210.71003806],\n",
       "       [103.26219543],\n",
       "       [194.33703347],\n",
       "       [141.12476855],\n",
       "       [117.58857445],\n",
       "       [113.4953233 ],\n",
       "       [107.35544658],\n",
       "       [150.33458363],\n",
       "       [210.71003806],\n",
       "       [189.22046954],\n",
       "       [ 72.56281182],\n",
       "       [168.7542138 ],\n",
       "       [124.75176395],\n",
       "       [150.33458363],\n",
       "       [127.82170232],\n",
       "       [134.98489182],\n",
       "       [192.2904079 ],\n",
       "       [163.63764986],\n",
       "       [142.14808133],\n",
       "       [134.98489182],\n",
       "       [ 98.14563149],\n",
       "       [130.89164068],\n",
       "       [148.28795806],\n",
       "       [209.68672528],\n",
       "       [186.15053118],\n",
       "       [140.10145576],\n",
       "       [ 78.70268854],\n",
       "       [208.66341249],\n",
       "       [131.91495346],\n",
       "       [146.24133248],\n",
       "       [194.33703347],\n",
       "       [ 89.9591292 ],\n",
       "       [271.0854925 ],\n",
       "       [104.28550821],\n",
       "       [ 92.00575477],\n",
       "       [122.70513838],\n",
       "       [173.87077773],\n",
       "       [162.61433707],\n",
       "       [219.91985315],\n",
       "       [165.68427544],\n",
       "       [144.19470691],\n",
       "       [ 87.91250362],\n",
       "       [142.14808133],\n",
       "       [129.86832789],\n",
       "       [216.84991479],\n",
       "       [118.61188723],\n",
       "       [141.12476855],\n",
       "       [ 82.79593969],\n",
       "       [112.47201051],\n",
       "       [165.68427544],\n",
       "       [145.2180197 ],\n",
       "       [167.73090101],\n",
       "       [143.17139412],\n",
       "       [137.0315174 ],\n",
       "       [175.91740331],\n",
       "       [105.308821  ],\n",
       "       [191.26709511],\n",
       "       [ 92.00575477],\n",
       "       [ 90.98244198],\n",
       "       [127.82170232],\n",
       "       [148.28795806],\n",
       "       [156.47446035],\n",
       "       [145.2180197 ],\n",
       "       [116.56526166],\n",
       "       [127.82170232],\n",
       "       [128.8450151 ],\n",
       "       [134.98489182],\n",
       "       [138.05483019],\n",
       "       [123.72845117],\n",
       "       [108.37875936],\n",
       "       [ 85.86587805],\n",
       "       [184.1039056 ],\n",
       "       [148.28795806],\n",
       "       [132.93826625],\n",
       "       [154.42783478],\n",
       "       [122.70513838],\n",
       "       [178.98734167],\n",
       "       [117.58857445],\n",
       "       [ 97.12231871],\n",
       "       [116.56526166],\n",
       "       [163.63764986],\n",
       "       [130.89164068],\n",
       "       [118.61188723],\n",
       "       [161.59102429],\n",
       "       [114.51863608],\n",
       "       [219.91985315],\n",
       "       [ 80.74931411],\n",
       "       [146.24133248],\n",
       "       [113.4953233 ],\n",
       "       [106.33213379],\n",
       "       [127.82170232],\n",
       "       [201.50022298],\n",
       "       [156.47446035],\n",
       "       [ 90.98244198],\n",
       "       [136.00820461],\n",
       "       [ 97.12231871],\n",
       "       [161.59102429],\n",
       "       [236.29285774],\n",
       "       [147.26464527],\n",
       "       [ 90.98244198],\n",
       "       [168.7542138 ],\n",
       "       [109.40207215],\n",
       "       [178.98734167],\n",
       "       [191.26709511],\n",
       "       [213.77997642],\n",
       "       [121.68182559],\n",
       "       [ 79.72600133],\n",
       "       [199.45359741],\n",
       "       [195.36034626],\n",
       "       [143.17139412],\n",
       "       [121.68182559],\n",
       "       [156.47446035],\n",
       "       [171.82415216],\n",
       "       [165.68427544],\n",
       "       [256.75911348],\n",
       "       [153.40452199],\n",
       "       [207.6400997 ],\n",
       "       [131.91495346],\n",
       "       [142.14808133],\n",
       "       [107.35544658],\n",
       "       [156.47446035],\n",
       "       [168.7542138 ],\n",
       "       [229.12966823],\n",
       "       [185.12721839],\n",
       "       [174.89409052],\n",
       "       [144.19470691],\n",
       "       [ 94.05238034],\n",
       "       [150.33458363],\n",
       "       [ 93.02906756],\n",
       "       [167.73090101],\n",
       "       [243.45604725],\n",
       "       [ 85.86587805],\n",
       "       [131.91495346],\n",
       "       [101.21556985],\n",
       "       [193.31372068],\n",
       "       [205.59347413],\n",
       "       [ 74.60943739],\n",
       "       [199.45359741],\n",
       "       [257.78242627],\n",
       "       [210.71003806],\n",
       "       [165.68427544],\n",
       "       [197.40697183],\n",
       "       [163.63764986],\n",
       "       [157.49777314],\n",
       "       [196.38365905],\n",
       "       [274.15543086],\n",
       "       [208.66341249],\n",
       "       [240.38610889],\n",
       "       [166.70758822],\n",
       "       [147.26464527],\n",
       "       [218.89654036],\n",
       "       [148.28795806],\n",
       "       [151.35789642],\n",
       "       [110.42538494],\n",
       "       [171.82415216],\n",
       "       [209.68672528],\n",
       "       [142.14808133],\n",
       "       [120.65851281],\n",
       "       [ 89.9591292 ],\n",
       "       [193.31372068],\n",
       "       [ 93.02906756],\n",
       "       [212.75666364],\n",
       "       [181.03396724],\n",
       "       [220.94316593],\n",
       "       [133.96157904],\n",
       "       [ 88.93581641],\n",
       "       [ 95.07569313],\n",
       "       [217.87322757],\n",
       "       [208.66341249],\n",
       "       [126.79838953],\n",
       "       [132.93826625],\n",
       "       [108.37875936],\n",
       "       [219.91985315],\n",
       "       [ 76.65606297],\n",
       "       [161.59102429],\n",
       "       [115.54194887],\n",
       "       [170.80083937],\n",
       "       [177.96402888],\n",
       "       [144.19470691],\n",
       "       [137.0315174 ],\n",
       "       [156.47446035],\n",
       "       [111.44869772],\n",
       "       [157.49777314],\n",
       "       [118.61188723],\n",
       "       [174.89409052],\n",
       "       [134.98489182],\n",
       "       [192.2904079 ],\n",
       "       [100.19225707],\n",
       "       [149.31127084],\n",
       "       [ 88.93581641],\n",
       "       [140.10145576],\n",
       "       [112.47201051],\n",
       "       [122.70513838],\n",
       "       [147.26464527],\n",
       "       [ 96.09900592],\n",
       "       [175.91740331],\n",
       "       [108.37875936],\n",
       "       [155.45114757],\n",
       "       [203.54684855],\n",
       "       [109.40207215],\n",
       "       [ 97.12231871],\n",
       "       [ 99.16894428],\n",
       "       [153.40452199],\n",
       "       [181.03396724],\n",
       "       [158.52108593],\n",
       "       [196.38365905],\n",
       "       [176.94071609],\n",
       "       [195.36034626],\n",
       "       [190.24378232],\n",
       "       [134.98489182],\n",
       "       [165.68427544],\n",
       "       [187.17384396],\n",
       "       [155.45114757],\n",
       "       [ 84.84256526],\n",
       "       [120.65851281],\n",
       "       [241.40942167],\n",
       "       [186.15053118],\n",
       "       [182.05728003],\n",
       "       [ 89.9591292 ],\n",
       "       [112.47201051],\n",
       "       [114.51863608],\n",
       "       [115.54194887],\n",
       "       [127.82170232],\n",
       "       [129.86832789],\n",
       "       [ 88.93581641],\n",
       "       [183.08059281],\n",
       "       [108.37875936],\n",
       "       [123.72845117],\n",
       "       [140.10145576],\n",
       "       [137.0315174 ],\n",
       "       [219.91985315],\n",
       "       [122.70513838],\n",
       "       [152.3812092 ],\n",
       "       [187.17384396],\n",
       "       [189.22046954],\n",
       "       [138.05483019],\n",
       "       [158.52108593],\n",
       "       [ 86.88919084],\n",
       "       [143.17139412],\n",
       "       [170.80083937],\n",
       "       [222.98979151],\n",
       "       [144.19470691],\n",
       "       [129.86832789],\n",
       "       [108.37875936],\n",
       "       [203.54684855],\n",
       "       [118.61188723],\n",
       "       [121.68182559],\n",
       "       [ 74.60943739],\n",
       "       [197.40697183],\n",
       "       [209.68672528],\n",
       "       [205.59347413],\n",
       "       [245.50267282],\n",
       "       [208.66341249],\n",
       "       [184.1039056 ],\n",
       "       [205.59347413],\n",
       "       [ 89.9591292 ],\n",
       "       [304.85481447],\n",
       "       [ 99.16894428],\n",
       "       [128.8450151 ],\n",
       "       [117.58857445],\n",
       "       [144.19470691],\n",
       "       [112.47201051],\n",
       "       [273.13211807],\n",
       "       [ 78.70268854],\n",
       "       [178.98734167],\n",
       "       [127.82170232],\n",
       "       [ 93.02906756],\n",
       "       [151.35789642],\n",
       "       [236.29285774],\n",
       "       [121.68182559],\n",
       "       [181.03396724],\n",
       "       [160.5677115 ],\n",
       "       [158.52108593],\n",
       "       [132.93826625],\n",
       "       [128.8450151 ],\n",
       "       [141.12476855],\n",
       "       [176.94071609],\n",
       "       [ 96.09900592],\n",
       "       [117.58857445],\n",
       "       [128.8450151 ],\n",
       "       [169.77752658],\n",
       "       [ 66.4229351 ],\n",
       "       [147.26464527],\n",
       "       [102.23888264],\n",
       "       [130.89164068],\n",
       "       [132.93826625],\n",
       "       [100.19225707],\n",
       "       [146.24133248],\n",
       "       [136.00820461],\n",
       "       [204.57016134],\n",
       "       [225.03641708],\n",
       "       [169.77752658],\n",
       "       [130.89164068],\n",
       "       [240.38610889],\n",
       "       [122.70513838],\n",
       "       [189.22046954],\n",
       "       [ 94.05238034],\n",
       "       [144.19470691],\n",
       "       [116.56526166],\n",
       "       [139.07814297],\n",
       "       [221.96647872],\n",
       "       [128.8450151 ],\n",
       "       [184.1039056 ],\n",
       "       [185.12721839],\n",
       "       [115.54194887],\n",
       "       [114.51863608],\n",
       "       [150.33458363],\n",
       "       [122.70513838],\n",
       "       [108.37875936],\n",
       "       [153.40452199],\n",
       "       [213.77997642],\n",
       "       [190.24378232],\n",
       "       [129.86832789],\n",
       "       [202.52353577],\n",
       "       [190.24378232],\n",
       "       [132.93826625],\n",
       "       [165.68427544],\n",
       "       [119.63520002],\n",
       "       [158.52108593],\n",
       "       [156.47446035],\n",
       "       [181.03396724],\n",
       "       [201.50022298],\n",
       "       [210.71003806],\n",
       "       [145.2180197 ],\n",
       "       [157.49777314],\n",
       "       [203.54684855],\n",
       "       [144.19470691],\n",
       "       [260.85236463],\n",
       "       [215.826602  ],\n",
       "       [ 99.16894428],\n",
       "       [181.03396724],\n",
       "       [127.82170232],\n",
       "       [251.64254954],\n",
       "       [146.24133248],\n",
       "       [107.35544658],\n",
       "       [106.33213379],\n",
       "       [233.22291938],\n",
       "       [140.10145576],\n",
       "       [120.65851281],\n",
       "       [145.2180197 ],\n",
       "       [139.07814297],\n",
       "       [208.66341249],\n",
       "       [172.84746494],\n",
       "       [169.77752658],\n",
       "       [141.12476855],\n",
       "       [149.31127084],\n",
       "       [168.7542138 ],\n",
       "       [123.72845117],\n",
       "       [132.93826625],\n",
       "       [ 97.12231871],\n",
       "       [209.68672528],\n",
       "       [113.4953233 ],\n",
       "       [ 83.81925247],\n",
       "       [ 99.16894428],\n",
       "       [195.36034626],\n",
       "       [143.17139412],\n",
       "       [120.65851281],\n",
       "       [199.45359741],\n",
       "       [ 71.53949903],\n",
       "       [157.49777314],\n",
       "       [171.82415216],\n",
       "       [145.2180197 ],\n",
       "       [251.64254954],\n",
       "       [128.8450151 ],\n",
       "       [146.24133248],\n",
       "       [115.54194887],\n",
       "       [282.34193315],\n",
       "       [314.06462955],\n",
       "       [154.42783478],\n",
       "       [188.19715675],\n",
       "       [ 97.12231871],\n",
       "       [143.17139412],\n",
       "       [129.86832789],\n",
       "       [142.14808133],\n",
       "       [119.63520002],\n",
       "       [149.31127084],\n",
       "       [216.84991479],\n",
       "       [161.59102429],\n",
       "       [154.42783478],\n",
       "       [115.54194887],\n",
       "       [176.94071609],\n",
       "       [ 67.44624788],\n",
       "       [209.68672528],\n",
       "       [124.75176395],\n",
       "       [123.72845117],\n",
       "       [133.96157904],\n",
       "       [113.4953233 ],\n",
       "       [166.70758822],\n",
       "       [128.8450151 ],\n",
       "       [153.40452199],\n",
       "       [217.87322757],\n",
       "       [ 85.86587805],\n",
       "       [123.72845117],\n",
       "       [108.37875936],\n",
       "       [169.77752658],\n",
       "       [153.40452199],\n",
       "       [122.70513838],\n",
       "       [148.28795806],\n",
       "       [166.70758822],\n",
       "       [173.87077773],\n",
       "       [195.36034626],\n",
       "       [109.40207215],\n",
       "       [120.65851281],\n",
       "       [244.47936004],\n",
       "       [203.54684855],\n",
       "       [269.03886692],\n",
       "       [ 75.63275018],\n",
       "       [240.38610889],\n",
       "       [104.28550821],\n",
       "       [141.12476855],\n",
       "       [125.77507674],\n",
       "       [207.6400997 ],\n",
       "       [233.22291938],\n",
       "       [151.35789642],\n",
       "       [158.52108593],\n",
       "       [160.5677115 ],\n",
       "       [228.10635544],\n",
       "       [219.91985315],\n",
       "       [128.8450151 ],\n",
       "       [100.19225707],\n",
       "       [117.58857445],\n",
       "       [167.73090101],\n",
       "       [226.05972987],\n",
       "       [114.51863608],\n",
       "       [162.61433707],\n",
       "       [113.4953233 ],\n",
       "       [119.63520002],\n",
       "       [157.49777314],\n",
       "       [236.29285774],\n",
       "       [120.65851281],\n",
       "       [ 98.14563149],\n",
       "       [122.70513838],\n",
       "       [204.57016134],\n",
       "       [ 95.07569313],\n",
       "       [153.40452199],\n",
       "       [129.86832789],\n",
       "       [ 81.7726269 ],\n",
       "       [170.80083937],\n",
       "       [137.0315174 ],\n",
       "       [137.0315174 ],\n",
       "       [189.22046954],\n",
       "       [ 82.79593969]])"
      ]
     },
     "execution_count": 37,
     "metadata": {},
     "output_type": "execute_result"
    }
   ],
   "source": [
    "# Calculate the predictions following the formula, y = intercept + X*coefficient.\n",
    "calc_pred = simple.intercept_ + (X*simple.coef_)\n",
    "calc_pred"
   ]
  },
  {
   "cell_type": "code",
   "execution_count": 38,
   "id": "f17bedd3",
   "metadata": {},
   "outputs": [
    {
     "data": {
      "text/plain": [
       "array([[210.71003806],\n",
       "       [103.26219543],\n",
       "       [194.33703347],\n",
       "       [141.12476855],\n",
       "       [117.58857445],\n",
       "       [113.4953233 ],\n",
       "       [107.35544658],\n",
       "       [150.33458363],\n",
       "       [210.71003806],\n",
       "       [189.22046954],\n",
       "       [ 72.56281182],\n",
       "       [168.7542138 ],\n",
       "       [124.75176395],\n",
       "       [150.33458363],\n",
       "       [127.82170232],\n",
       "       [134.98489182],\n",
       "       [192.2904079 ],\n",
       "       [163.63764986],\n",
       "       [142.14808133],\n",
       "       [134.98489182],\n",
       "       [ 98.14563149],\n",
       "       [130.89164068],\n",
       "       [148.28795806],\n",
       "       [209.68672528],\n",
       "       [186.15053118],\n",
       "       [140.10145576],\n",
       "       [ 78.70268854],\n",
       "       [208.66341249],\n",
       "       [131.91495346],\n",
       "       [146.24133248],\n",
       "       [194.33703347],\n",
       "       [ 89.9591292 ],\n",
       "       [271.0854925 ],\n",
       "       [104.28550821],\n",
       "       [ 92.00575477],\n",
       "       [122.70513838],\n",
       "       [173.87077773],\n",
       "       [162.61433707],\n",
       "       [219.91985315],\n",
       "       [165.68427544],\n",
       "       [144.19470691],\n",
       "       [ 87.91250362],\n",
       "       [142.14808133],\n",
       "       [129.86832789],\n",
       "       [216.84991479],\n",
       "       [118.61188723],\n",
       "       [141.12476855],\n",
       "       [ 82.79593969],\n",
       "       [112.47201051],\n",
       "       [165.68427544],\n",
       "       [145.2180197 ],\n",
       "       [167.73090101],\n",
       "       [143.17139412],\n",
       "       [137.0315174 ],\n",
       "       [175.91740331],\n",
       "       [105.308821  ],\n",
       "       [191.26709511],\n",
       "       [ 92.00575477],\n",
       "       [ 90.98244198],\n",
       "       [127.82170232],\n",
       "       [148.28795806],\n",
       "       [156.47446035],\n",
       "       [145.2180197 ],\n",
       "       [116.56526166],\n",
       "       [127.82170232],\n",
       "       [128.8450151 ],\n",
       "       [134.98489182],\n",
       "       [138.05483019],\n",
       "       [123.72845117],\n",
       "       [108.37875936],\n",
       "       [ 85.86587805],\n",
       "       [184.1039056 ],\n",
       "       [148.28795806],\n",
       "       [132.93826625],\n",
       "       [154.42783478],\n",
       "       [122.70513838],\n",
       "       [178.98734167],\n",
       "       [117.58857445],\n",
       "       [ 97.12231871],\n",
       "       [116.56526166],\n",
       "       [163.63764986],\n",
       "       [130.89164068],\n",
       "       [118.61188723],\n",
       "       [161.59102429],\n",
       "       [114.51863608],\n",
       "       [219.91985315],\n",
       "       [ 80.74931411],\n",
       "       [146.24133248],\n",
       "       [113.4953233 ],\n",
       "       [106.33213379],\n",
       "       [127.82170232],\n",
       "       [201.50022298],\n",
       "       [156.47446035],\n",
       "       [ 90.98244198],\n",
       "       [136.00820461],\n",
       "       [ 97.12231871],\n",
       "       [161.59102429],\n",
       "       [236.29285774],\n",
       "       [147.26464527],\n",
       "       [ 90.98244198],\n",
       "       [168.7542138 ],\n",
       "       [109.40207215],\n",
       "       [178.98734167],\n",
       "       [191.26709511],\n",
       "       [213.77997642],\n",
       "       [121.68182559],\n",
       "       [ 79.72600133],\n",
       "       [199.45359741],\n",
       "       [195.36034626],\n",
       "       [143.17139412],\n",
       "       [121.68182559],\n",
       "       [156.47446035],\n",
       "       [171.82415216],\n",
       "       [165.68427544],\n",
       "       [256.75911348],\n",
       "       [153.40452199],\n",
       "       [207.6400997 ],\n",
       "       [131.91495346],\n",
       "       [142.14808133],\n",
       "       [107.35544658],\n",
       "       [156.47446035],\n",
       "       [168.7542138 ],\n",
       "       [229.12966823],\n",
       "       [185.12721839],\n",
       "       [174.89409052],\n",
       "       [144.19470691],\n",
       "       [ 94.05238034],\n",
       "       [150.33458363],\n",
       "       [ 93.02906756],\n",
       "       [167.73090101],\n",
       "       [243.45604725],\n",
       "       [ 85.86587805],\n",
       "       [131.91495346],\n",
       "       [101.21556985],\n",
       "       [193.31372068],\n",
       "       [205.59347413],\n",
       "       [ 74.60943739],\n",
       "       [199.45359741],\n",
       "       [257.78242627],\n",
       "       [210.71003806],\n",
       "       [165.68427544],\n",
       "       [197.40697183],\n",
       "       [163.63764986],\n",
       "       [157.49777314],\n",
       "       [196.38365905],\n",
       "       [274.15543086],\n",
       "       [208.66341249],\n",
       "       [240.38610889],\n",
       "       [166.70758822],\n",
       "       [147.26464527],\n",
       "       [218.89654036],\n",
       "       [148.28795806],\n",
       "       [151.35789642],\n",
       "       [110.42538494],\n",
       "       [171.82415216],\n",
       "       [209.68672528],\n",
       "       [142.14808133],\n",
       "       [120.65851281],\n",
       "       [ 89.9591292 ],\n",
       "       [193.31372068],\n",
       "       [ 93.02906756],\n",
       "       [212.75666364],\n",
       "       [181.03396724],\n",
       "       [220.94316593],\n",
       "       [133.96157904],\n",
       "       [ 88.93581641],\n",
       "       [ 95.07569313],\n",
       "       [217.87322757],\n",
       "       [208.66341249],\n",
       "       [126.79838953],\n",
       "       [132.93826625],\n",
       "       [108.37875936],\n",
       "       [219.91985315],\n",
       "       [ 76.65606297],\n",
       "       [161.59102429],\n",
       "       [115.54194887],\n",
       "       [170.80083937],\n",
       "       [177.96402888],\n",
       "       [144.19470691],\n",
       "       [137.0315174 ],\n",
       "       [156.47446035],\n",
       "       [111.44869772],\n",
       "       [157.49777314],\n",
       "       [118.61188723],\n",
       "       [174.89409052],\n",
       "       [134.98489182],\n",
       "       [192.2904079 ],\n",
       "       [100.19225707],\n",
       "       [149.31127084],\n",
       "       [ 88.93581641],\n",
       "       [140.10145576],\n",
       "       [112.47201051],\n",
       "       [122.70513838],\n",
       "       [147.26464527],\n",
       "       [ 96.09900592],\n",
       "       [175.91740331],\n",
       "       [108.37875936],\n",
       "       [155.45114757],\n",
       "       [203.54684855],\n",
       "       [109.40207215],\n",
       "       [ 97.12231871],\n",
       "       [ 99.16894428],\n",
       "       [153.40452199],\n",
       "       [181.03396724],\n",
       "       [158.52108593],\n",
       "       [196.38365905],\n",
       "       [176.94071609],\n",
       "       [195.36034626],\n",
       "       [190.24378232],\n",
       "       [134.98489182],\n",
       "       [165.68427544],\n",
       "       [187.17384396],\n",
       "       [155.45114757],\n",
       "       [ 84.84256526],\n",
       "       [120.65851281],\n",
       "       [241.40942167],\n",
       "       [186.15053118],\n",
       "       [182.05728003],\n",
       "       [ 89.9591292 ],\n",
       "       [112.47201051],\n",
       "       [114.51863608],\n",
       "       [115.54194887],\n",
       "       [127.82170232],\n",
       "       [129.86832789],\n",
       "       [ 88.93581641],\n",
       "       [183.08059281],\n",
       "       [108.37875936],\n",
       "       [123.72845117],\n",
       "       [140.10145576],\n",
       "       [137.0315174 ],\n",
       "       [219.91985315],\n",
       "       [122.70513838],\n",
       "       [152.3812092 ],\n",
       "       [187.17384396],\n",
       "       [189.22046954],\n",
       "       [138.05483019],\n",
       "       [158.52108593],\n",
       "       [ 86.88919084],\n",
       "       [143.17139412],\n",
       "       [170.80083937],\n",
       "       [222.98979151],\n",
       "       [144.19470691],\n",
       "       [129.86832789],\n",
       "       [108.37875936],\n",
       "       [203.54684855],\n",
       "       [118.61188723],\n",
       "       [121.68182559],\n",
       "       [ 74.60943739],\n",
       "       [197.40697183],\n",
       "       [209.68672528],\n",
       "       [205.59347413],\n",
       "       [245.50267282],\n",
       "       [208.66341249],\n",
       "       [184.1039056 ],\n",
       "       [205.59347413],\n",
       "       [ 89.9591292 ],\n",
       "       [304.85481447],\n",
       "       [ 99.16894428],\n",
       "       [128.8450151 ],\n",
       "       [117.58857445],\n",
       "       [144.19470691],\n",
       "       [112.47201051],\n",
       "       [273.13211807],\n",
       "       [ 78.70268854],\n",
       "       [178.98734167],\n",
       "       [127.82170232],\n",
       "       [ 93.02906756],\n",
       "       [151.35789642],\n",
       "       [236.29285774],\n",
       "       [121.68182559],\n",
       "       [181.03396724],\n",
       "       [160.5677115 ],\n",
       "       [158.52108593],\n",
       "       [132.93826625],\n",
       "       [128.8450151 ],\n",
       "       [141.12476855],\n",
       "       [176.94071609],\n",
       "       [ 96.09900592],\n",
       "       [117.58857445],\n",
       "       [128.8450151 ],\n",
       "       [169.77752658],\n",
       "       [ 66.4229351 ],\n",
       "       [147.26464527],\n",
       "       [102.23888264],\n",
       "       [130.89164068],\n",
       "       [132.93826625],\n",
       "       [100.19225707],\n",
       "       [146.24133248],\n",
       "       [136.00820461],\n",
       "       [204.57016134],\n",
       "       [225.03641708],\n",
       "       [169.77752658],\n",
       "       [130.89164068],\n",
       "       [240.38610889],\n",
       "       [122.70513838],\n",
       "       [189.22046954],\n",
       "       [ 94.05238034],\n",
       "       [144.19470691],\n",
       "       [116.56526166],\n",
       "       [139.07814297],\n",
       "       [221.96647872],\n",
       "       [128.8450151 ],\n",
       "       [184.1039056 ],\n",
       "       [185.12721839],\n",
       "       [115.54194887],\n",
       "       [114.51863608],\n",
       "       [150.33458363],\n",
       "       [122.70513838],\n",
       "       [108.37875936],\n",
       "       [153.40452199],\n",
       "       [213.77997642],\n",
       "       [190.24378232],\n",
       "       [129.86832789],\n",
       "       [202.52353577],\n",
       "       [190.24378232],\n",
       "       [132.93826625],\n",
       "       [165.68427544],\n",
       "       [119.63520002],\n",
       "       [158.52108593],\n",
       "       [156.47446035],\n",
       "       [181.03396724],\n",
       "       [201.50022298],\n",
       "       [210.71003806],\n",
       "       [145.2180197 ],\n",
       "       [157.49777314],\n",
       "       [203.54684855],\n",
       "       [144.19470691],\n",
       "       [260.85236463],\n",
       "       [215.826602  ],\n",
       "       [ 99.16894428],\n",
       "       [181.03396724],\n",
       "       [127.82170232],\n",
       "       [251.64254954],\n",
       "       [146.24133248],\n",
       "       [107.35544658],\n",
       "       [106.33213379],\n",
       "       [233.22291938],\n",
       "       [140.10145576],\n",
       "       [120.65851281],\n",
       "       [145.2180197 ],\n",
       "       [139.07814297],\n",
       "       [208.66341249],\n",
       "       [172.84746494],\n",
       "       [169.77752658],\n",
       "       [141.12476855],\n",
       "       [149.31127084],\n",
       "       [168.7542138 ],\n",
       "       [123.72845117],\n",
       "       [132.93826625],\n",
       "       [ 97.12231871],\n",
       "       [209.68672528],\n",
       "       [113.4953233 ],\n",
       "       [ 83.81925247],\n",
       "       [ 99.16894428],\n",
       "       [195.36034626],\n",
       "       [143.17139412],\n",
       "       [120.65851281],\n",
       "       [199.45359741],\n",
       "       [ 71.53949903],\n",
       "       [157.49777314],\n",
       "       [171.82415216],\n",
       "       [145.2180197 ],\n",
       "       [251.64254954],\n",
       "       [128.8450151 ],\n",
       "       [146.24133248],\n",
       "       [115.54194887],\n",
       "       [282.34193315],\n",
       "       [314.06462955],\n",
       "       [154.42783478],\n",
       "       [188.19715675],\n",
       "       [ 97.12231871],\n",
       "       [143.17139412],\n",
       "       [129.86832789],\n",
       "       [142.14808133],\n",
       "       [119.63520002],\n",
       "       [149.31127084],\n",
       "       [216.84991479],\n",
       "       [161.59102429],\n",
       "       [154.42783478],\n",
       "       [115.54194887],\n",
       "       [176.94071609],\n",
       "       [ 67.44624788],\n",
       "       [209.68672528],\n",
       "       [124.75176395],\n",
       "       [123.72845117],\n",
       "       [133.96157904],\n",
       "       [113.4953233 ],\n",
       "       [166.70758822],\n",
       "       [128.8450151 ],\n",
       "       [153.40452199],\n",
       "       [217.87322757],\n",
       "       [ 85.86587805],\n",
       "       [123.72845117],\n",
       "       [108.37875936],\n",
       "       [169.77752658],\n",
       "       [153.40452199],\n",
       "       [122.70513838],\n",
       "       [148.28795806],\n",
       "       [166.70758822],\n",
       "       [173.87077773],\n",
       "       [195.36034626],\n",
       "       [109.40207215],\n",
       "       [120.65851281],\n",
       "       [244.47936004],\n",
       "       [203.54684855],\n",
       "       [269.03886692],\n",
       "       [ 75.63275018],\n",
       "       [240.38610889],\n",
       "       [104.28550821],\n",
       "       [141.12476855],\n",
       "       [125.77507674],\n",
       "       [207.6400997 ],\n",
       "       [233.22291938],\n",
       "       [151.35789642],\n",
       "       [158.52108593],\n",
       "       [160.5677115 ],\n",
       "       [228.10635544],\n",
       "       [219.91985315],\n",
       "       [128.8450151 ],\n",
       "       [100.19225707],\n",
       "       [117.58857445],\n",
       "       [167.73090101],\n",
       "       [226.05972987],\n",
       "       [114.51863608],\n",
       "       [162.61433707],\n",
       "       [113.4953233 ],\n",
       "       [119.63520002],\n",
       "       [157.49777314],\n",
       "       [236.29285774],\n",
       "       [120.65851281],\n",
       "       [ 98.14563149],\n",
       "       [122.70513838],\n",
       "       [204.57016134],\n",
       "       [ 95.07569313],\n",
       "       [153.40452199],\n",
       "       [129.86832789],\n",
       "       [ 81.7726269 ],\n",
       "       [170.80083937],\n",
       "       [137.0315174 ],\n",
       "       [137.0315174 ],\n",
       "       [189.22046954],\n",
       "       [ 82.79593969]])"
      ]
     },
     "execution_count": 38,
     "metadata": {},
     "output_type": "execute_result"
    }
   ],
   "source": [
    "# Predictions can also be calculated using the trained model.\n",
    "pred = simple.predict(X)\n",
    "pred"
   ]
  },
  {
   "cell_type": "code",
   "execution_count": 39,
   "id": "b703b446",
   "metadata": {},
   "outputs": [
    {
     "data": {
      "text/plain": [
       "True"
      ]
     },
     "execution_count": 39,
     "metadata": {},
     "output_type": "execute_result"
    }
   ],
   "source": [
    "#We can check whether the calculated predictions and model’s predictions are identical.\n",
    "(calc_pred == pred).all()"
   ]
  },
  {
   "cell_type": "markdown",
   "id": "c62425b5",
   "metadata": {},
   "source": [
    "Plot the actual values and predicted values to get a better understanding."
   ]
  },
  {
   "cell_type": "code",
   "execution_count": 43,
   "id": "b0073fe9",
   "metadata": {},
   "outputs": [
    {
     "data": {
      "image/png": "[encoded data removed]",
      "text/plain": [
       "<Figure size 432x288 with 1 Axes>"
      ]
     },
     "metadata": {
      "needs_background": "light"
     },
     "output_type": "display_data"
    }
   ],
   "source": [
    "# plot actual values\n",
    "plt.scatter(X,y, label='Actual')\n",
    "# plot predicted values\n",
    "plt.plot(X,pred, '-r', label='Prediction')\n",
    "plt.xlabel('Feature X')\n",
    "plt.ylabel('Target y')\n",
    "plt.title('Simple Linear Regression', color='orange', size=14)\n",
    "plt.legend()\n",
    "plt.show()"
   ]
  },
  {
   "cell_type": "markdown",
   "id": "5a5f55fe",
   "metadata": {},
   "source": [
    "According to SciKit-Learn’s LinearRegression method, the above red line is the best possible fit with minimal error value. "
   ]
  },
  {
   "cell_type": "code",
   "execution_count": 46,
   "id": "34f59371",
   "metadata": {},
   "outputs": [
    {
     "data": {
      "text/plain": [
       "3890.4565854612724"
      ]
     },
     "execution_count": 46,
     "metadata": {},
     "output_type": "execute_result"
    }
   ],
   "source": [
    "# We can calculate the mean squared error value for the above regression using the following code.\n",
    "\n",
    "from sklearn.metrics import mean_squared_error\n",
    "mean_squared_error(y, pred)"
   ]
  },
  {
   "cell_type": "markdown",
   "id": "359e9ea9",
   "metadata": {},
   "source": [
    "This error value seems too high because of the nature of the actual data. It can be observed from the above plot that the target has multiple values corresponding to a single feature value. The data is highly scattered, which can not be fit completely with a straight line. However, we may wish to conclude how good the fit is. The error just yields an incomparable number."
   ]
  },
  {
   "cell_type": "markdown",
   "id": "4ad2f505",
   "metadata": {},
   "source": [
    "### Coefficient of Determination (CoD) or R-Squared"
   ]
  },
  {
   "cell_type": "markdown",
   "id": "c7acc2bc",
   "metadata": {},
   "source": [
    "A parameter named Coefficient of Determination (CoD) is helpful in this case. **CoD gives the ratio of the regression sum of square to the total sum of the square. Total sum of squares (SST) is the sum of deviations of each y value from the mean value of y. Regression sum of squares (SSR) is the difference between the total sum of squares and the sum of squared error (SSE).** When there is no error (MSE = 0), CoD becomes unity. When the sum of squared error equals the total sum of squares (SSE = SST), CoD becomes zero.\n",
    "\n",
    "CoD = 1 refers to the best prediction\n",
    "\n",
    "CoD = 0 refers to the worst prediction\n",
    "\n",
    "CoD gives a limit [0,1], thus makes the predictions comparable. CoD is also called R-squared value."
   ]
  },
  {
   "cell_type": "code",
   "execution_count": 49,
   "id": "29b7b520",
   "metadata": {},
   "outputs": [
    {
     "data": {
      "text/plain": [
       "0.3439237602253803"
      ]
     },
     "execution_count": 49,
     "metadata": {},
     "output_type": "execute_result"
    }
   ],
   "source": [
    "# R-Squared can be calculated using the following code.\n",
    "simple.score(X,y)"
   ]
  },
  {
   "cell_type": "markdown",
   "id": "a47d7518",
   "metadata": {},
   "source": [
    "With high scatteredness in data, 0.34 is the best possible fit by linear regression."
   ]
  },
  {
   "cell_type": "markdown",
   "id": "d07273b8",
   "metadata": {},
   "source": [
    "### Multiple Linear Regression"
   ]
  },
  {
   "cell_type": "code",
   "execution_count": 50,
   "id": "b58dcfd5",
   "metadata": {},
   "outputs": [],
   "source": [
    "# Multiple linear regression is performed with more than one independent variable.\n",
    "# We choose the following columns as our features.\n",
    "columns = ['age', 'bmi', 'bp', 's3', 's5']"
   ]
  },
  {
   "cell_type": "code",
   "execution_count": 51,
   "id": "e1176147",
   "metadata": {},
   "outputs": [
    {
     "data": {
      "image/png": "[encoded data removed]",
      "text/plain": [
       "<Figure size 432x288 with 1 Axes>"
      ]
     },
     "metadata": {
      "needs_background": "light"
     },
     "output_type": "display_data"
    },
    {
     "data": {
      "image/png": "[encoded data removed]",
      "text/plain": [
       "<Figure size 432x288 with 1 Axes>"
      ]
     },
     "metadata": {
      "needs_background": "light"
     },
     "output_type": "display_data"
    },
    {
     "data": {
      "image/png": "[encoded data removed]",
      "text/plain": [
       "<Figure size 432x288 with 1 Axes>"
      ]
     },
     "metadata": {
      "needs_background": "light"
     },
     "output_type": "display_data"
    },
    {
     "data": {
      "image/png": "[encoded data removed]",
      "text/plain": [
       "<Figure size 432x288 with 1 Axes>"
      ]
     },
     "metadata": {
      "needs_background": "light"
     },
     "output_type": "display_data"
    },
    {
     "data": {
      "image/png": "[encoded data removed]",
      "text/plain": [
       "<Figure size 432x288 with 1 Axes>"
      ]
     },
     "metadata": {
      "needs_background": "light"
     },
     "output_type": "display_data"
    }
   ],
   "source": [
    "for i in columns:\n",
    "    plt.scatter(features[i], y)\n",
    "    plt.xlabel(str(i))\n",
    "    plt.show()"
   ]
  },
  {
   "cell_type": "markdown",
   "id": "c41a834d",
   "metadata": {},
   "source": [
    "It is observed that each individual feature has scatteredness in nature. But, the variation in target values for a single input feature value may be explained by some other features. In other words, the target value may find difficulty in fitting a linear regression model with a single feature. Nevertheless, it may yield an improved fit with multiple features by exploring the true pattern in the data."
   ]
  },
  {
   "cell_type": "code",
   "execution_count": 53,
   "id": "00a02480",
   "metadata": {},
   "outputs": [],
   "source": [
    "# Let’s split the dataset into training and validation sets.\n",
    "from sklearn.model_selection import train_test_split\n",
    "X = features[columns]\n",
    "X_train, X_test, y_train, y_test = train_test_split(X,y,test_size=0.2, random_state=6)"
   ]
  },
  {
   "cell_type": "code",
   "execution_count": 55,
   "id": "0ae0bf44",
   "metadata": {},
   "outputs": [
    {
     "data": {
      "text/plain": [
       "LinearRegression()"
      ]
     },
     "execution_count": 55,
     "metadata": {},
     "output_type": "execute_result"
    }
   ],
   "source": [
    "# Build a linear regression model and fit the data.\n",
    "multi= LinearRegression()\n",
    "multi.fit(X_train,y_train)"
   ]
  },
  {
   "cell_type": "code",
   "execution_count": 58,
   "id": "48b2c822",
   "metadata": {},
   "outputs": [
    {
     "data": {
      "text/plain": [
       "array([[ -79.7520873 ,  595.40113097,  311.49720444, -159.42906869,\n",
       "         496.82564004]])"
      ]
     },
     "execution_count": 58,
     "metadata": {},
     "output_type": "execute_result"
    }
   ],
   "source": [
    "# Weights (coefficients) of the model. There should be five coefficients each corresponding to each feature.\n",
    "multi.coef_"
   ]
  },
  {
   "cell_type": "code",
   "execution_count": 59,
   "id": "d64ed7f0",
   "metadata": {},
   "outputs": [
    {
     "data": {
      "text/plain": [
       "array([150.16282646])"
      ]
     },
     "execution_count": 59,
     "metadata": {},
     "output_type": "execute_result"
    }
   ],
   "source": [
    "# intercept (bias) of the model\n",
    "multi.intercept_"
   ]
  },
  {
   "cell_type": "code",
   "execution_count": 61,
   "id": "3deba9d1",
   "metadata": {},
   "outputs": [
    {
     "data": {
      "text/plain": [
       "array([[ 70.87352072],\n",
       "       [254.95869703],\n",
       "       [ 57.31440926],\n",
       "       [123.44276227],\n",
       "       [ 55.13904301],\n",
       "       [138.02836792],\n",
       "       [226.14929876],\n",
       "       [216.4509575 ],\n",
       "       [147.7028426 ],\n",
       "       [194.47025816],\n",
       "       [ 73.13151213],\n",
       "       [ 43.151623  ],\n",
       "       [141.77928211],\n",
       "       [ 92.43405582],\n",
       "       [202.72095042],\n",
       "       [144.25826619],\n",
       "       [ 70.85978761],\n",
       "       [205.09689669],\n",
       "       [132.05340968],\n",
       "       [ 58.8756199 ],\n",
       "       [ 70.54578007],\n",
       "       [110.81991502],\n",
       "       [208.72367035],\n",
       "       [130.06025471],\n",
       "       [106.40853627],\n",
       "       [271.71912294],\n",
       "       [203.85026266],\n",
       "       [247.41565373],\n",
       "       [159.36045069],\n",
       "       [ 96.4130151 ],\n",
       "       [217.90083187],\n",
       "       [102.85812593],\n",
       "       [115.6315311 ],\n",
       "       [ 81.43586486],\n",
       "       [ 96.34553949],\n",
       "       [170.66635078],\n",
       "       [217.97021709],\n",
       "       [270.59426255],\n",
       "       [133.07431281],\n",
       "       [ 98.8842869 ],\n",
       "       [200.14543403],\n",
       "       [158.98269025],\n",
       "       [171.82629293],\n",
       "       [256.64217449],\n",
       "       [259.51409489],\n",
       "       [ 85.69945242],\n",
       "       [120.13201553],\n",
       "       [202.51369277],\n",
       "       [205.28887757],\n",
       "       [257.40296044],\n",
       "       [152.58017259],\n",
       "       [200.34885312],\n",
       "       [123.16342947],\n",
       "       [158.23417471],\n",
       "       [117.95356444],\n",
       "       [ 62.25483755],\n",
       "       [144.12725574],\n",
       "       [120.83288357],\n",
       "       [223.07583178],\n",
       "       [205.29052907],\n",
       "       [219.3296698 ],\n",
       "       [ 72.82941671],\n",
       "       [104.81035553],\n",
       "       [154.46731912],\n",
       "       [115.66310858],\n",
       "       [206.71404196],\n",
       "       [192.306717  ],\n",
       "       [109.66936015],\n",
       "       [141.54224039],\n",
       "       [132.73334419],\n",
       "       [189.20025612],\n",
       "       [148.00491494],\n",
       "       [155.44418781],\n",
       "       [154.0186635 ],\n",
       "       [ 92.08531403],\n",
       "       [216.03519704],\n",
       "       [117.69095179],\n",
       "       [104.73298014],\n",
       "       [134.81743168],\n",
       "       [ 78.23919461],\n",
       "       [170.43684766],\n",
       "       [158.17160943],\n",
       "       [ 98.35319969],\n",
       "       [277.22855243],\n",
       "       [134.81469351],\n",
       "       [103.44663552],\n",
       "       [181.51481931],\n",
       "       [174.08514476],\n",
       "       [218.00436367]])"
      ]
     },
     "execution_count": 61,
     "metadata": {},
     "output_type": "execute_result"
    }
   ],
   "source": [
    "# Let’s predict the target values corresponding to the features in the validation data.\n",
    "pred = multi.predict(X_test)\n",
    "pred"
   ]
  },
  {
   "cell_type": "code",
   "execution_count": 62,
   "id": "8b2f83d6",
   "metadata": {},
   "outputs": [
    {
     "data": {
      "text/plain": [
       "2920.3174710162457"
      ]
     },
     "execution_count": 62,
     "metadata": {},
     "output_type": "execute_result"
    }
   ],
   "source": [
    "# We can evaluate the model by calculating the error or R-squared value.\n",
    "mean_squared_error(y_test, pred)"
   ]
  },
  {
   "cell_type": "code",
   "execution_count": 64,
   "id": "2ace103e",
   "metadata": {},
   "outputs": [
    {
     "data": {
      "text/plain": [
       "(0.4930701536423693, 0.46527175799338716)"
      ]
     },
     "execution_count": 64,
     "metadata": {},
     "output_type": "execute_result"
    }
   ],
   "source": [
    "# Calculate the R-squared value for both training set and validation set.\n",
    "multi.score(X_train, y_train), multi.score(X_test, y_test)"
   ]
  },
  {
   "cell_type": "markdown",
   "id": "734b6a5b",
   "metadata": {},
   "source": [
    "### Using statsmodels Library"
   ]
  },
  {
   "cell_type": "markdown",
   "id": "d8e6a1ce",
   "metadata": {},
   "source": [
    "Fit the training data on the OLS (Ordinary Least Squares) model available in the statsmodels library."
   ]
  },
  {
   "cell_type": "code",
   "execution_count": 65,
   "id": "75c05b7e",
   "metadata": {},
   "outputs": [
    {
     "data": {
      "text/html": [
       "<table class=\"simpletable\">\n",
       "<caption>OLS Regression Results</caption>\n",
       "<tr>\n",
       "  <th>Dep. Variable:</th>            <td>y</td>        <th>  R-squared:         </th> <td>   0.493</td>\n",
       "</tr>\n",
       "<tr>\n",
       "  <th>Model:</th>                   <td>OLS</td>       <th>  Adj. R-squared:    </th> <td>   0.486</td>\n",
       "</tr>\n",
       "<tr>\n",
       "  <th>Method:</th>             <td>Least Squares</td>  <th>  F-statistic:       </th> <td>   67.50</td>\n",
       "</tr>\n",
       "<tr>\n",
       "  <th>Date:</th>             <td>Wed, 23 Feb 2022</td> <th>  Prob (F-statistic):</th> <td>3.91e-49</td>\n",
       "</tr>\n",
       "<tr>\n",
       "  <th>Time:</th>                 <td>18:03:41</td>     <th>  Log-Likelihood:    </th> <td> -1917.0</td>\n",
       "</tr>\n",
       "<tr>\n",
       "  <th>No. Observations:</th>      <td>   353</td>      <th>  AIC:               </th> <td>   3846.</td>\n",
       "</tr>\n",
       "<tr>\n",
       "  <th>Df Residuals:</th>          <td>   347</td>      <th>  BIC:               </th> <td>   3869.</td>\n",
       "</tr>\n",
       "<tr>\n",
       "  <th>Df Model:</th>              <td>     5</td>      <th>                     </th>     <td> </td>   \n",
       "</tr>\n",
       "<tr>\n",
       "  <th>Covariance Type:</th>      <td>nonrobust</td>    <th>                     </th>     <td> </td>   \n",
       "</tr>\n",
       "</table>\n",
       "<table class=\"simpletable\">\n",
       "<tr>\n",
       "    <td></td>       <th>coef</th>     <th>std err</th>      <th>t</th>      <th>P>|t|</th>  <th>[0.025</th>    <th>0.975]</th>  \n",
       "</tr>\n",
       "<tr>\n",
       "  <th>const</th> <td>  150.1628</td> <td>    2.967</td> <td>   50.610</td> <td> 0.000</td> <td>  144.327</td> <td>  155.999</td>\n",
       "</tr>\n",
       "<tr>\n",
       "  <th>age</th>   <td>  -79.7521</td> <td>   67.192</td> <td>   -1.187</td> <td> 0.236</td> <td> -211.907</td> <td>   52.403</td>\n",
       "</tr>\n",
       "<tr>\n",
       "  <th>bmi</th>   <td>  595.4011</td> <td>   76.489</td> <td>    7.784</td> <td> 0.000</td> <td>  444.960</td> <td>  745.842</td>\n",
       "</tr>\n",
       "<tr>\n",
       "  <th>bp</th>    <td>  311.4972</td> <td>   72.873</td> <td>    4.274</td> <td> 0.000</td> <td>  168.168</td> <td>  454.826</td>\n",
       "</tr>\n",
       "<tr>\n",
       "  <th>s3</th>    <td> -159.4291</td> <td>   71.616</td> <td>   -2.226</td> <td> 0.027</td> <td> -300.284</td> <td>  -18.574</td>\n",
       "</tr>\n",
       "<tr>\n",
       "  <th>s5</th>    <td>  496.8256</td> <td>   77.142</td> <td>    6.440</td> <td> 0.000</td> <td>  345.102</td> <td>  648.549</td>\n",
       "</tr>\n",
       "</table>\n",
       "<table class=\"simpletable\">\n",
       "<tr>\n",
       "  <th>Omnibus:</th>       <td> 8.844</td> <th>  Durbin-Watson:     </th> <td>   2.066</td>\n",
       "</tr>\n",
       "<tr>\n",
       "  <th>Prob(Omnibus):</th> <td> 0.012</td> <th>  Jarque-Bera (JB):  </th> <td>   6.630</td>\n",
       "</tr>\n",
       "<tr>\n",
       "  <th>Skew:</th>          <td> 0.225</td> <th>  Prob(JB):          </th> <td>  0.0363</td>\n",
       "</tr>\n",
       "<tr>\n",
       "  <th>Kurtosis:</th>      <td> 2.502</td> <th>  Cond. No.          </th> <td>    30.1</td>\n",
       "</tr>\n",
       "</table><br/><br/>Notes:<br/>[1] Standard Errors assume that the covariance matrix of the errors is correctly specified."
      ],
      "text/plain": [
       "<class 'statsmodels.iolib.summary.Summary'>\n",
       "\"\"\"\n",
       "                            OLS Regression Results                            \n",
       "==============================================================================\n",
       "Dep. Variable:                      y   R-squared:                       0.493\n",
       "Model:                            OLS   Adj. R-squared:                  0.486\n",
       "Method:                 Least Squares   F-statistic:                     67.50\n",
       "Date:                Wed, 23 Feb 2022   Prob (F-statistic):           3.91e-49\n",
       "Time:                        18:03:41   Log-Likelihood:                -1917.0\n",
       "No. Observations:                 353   AIC:                             3846.\n",
       "Df Residuals:                     347   BIC:                             3869.\n",
       "Df Model:                           5                                         \n",
       "Covariance Type:            nonrobust                                         \n",
       "==============================================================================\n",
       "                 coef    std err          t      P>|t|      [0.025      0.975]\n",
       "------------------------------------------------------------------------------\n",
       "const        150.1628      2.967     50.610      0.000     144.327     155.999\n",
       "age          -79.7521     67.192     -1.187      0.236    -211.907      52.403\n",
       "bmi          595.4011     76.489      7.784      0.000     444.960     745.842\n",
       "bp           311.4972     72.873      4.274      0.000     168.168     454.826\n",
       "s3          -159.4291     71.616     -2.226      0.027    -300.284     -18.574\n",
       "s5           496.8256     77.142      6.440      0.000     345.102     648.549\n",
       "==============================================================================\n",
       "Omnibus:                        8.844   Durbin-Watson:                   2.066\n",
       "Prob(Omnibus):                  0.012   Jarque-Bera (JB):                6.630\n",
       "Skew:                           0.225   Prob(JB):                       0.0363\n",
       "Kurtosis:                       2.502   Cond. No.                         30.1\n",
       "==============================================================================\n",
       "\n",
       "Notes:\n",
       "[1] Standard Errors assume that the covariance matrix of the errors is correctly specified.\n",
       "\"\"\""
      ]
     },
     "execution_count": 65,
     "metadata": {},
     "output_type": "execute_result"
    }
   ],
   "source": [
    "import statsmodels.api as sm\n",
    "# add constant (intercept) manually\n",
    "X_train = sm.add_constant(X_train)\n",
    "# fit training data\n",
    "model = sm.OLS(y_train, X_train).fit()\n",
    "model.summary()"
   ]
  },
  {
   "cell_type": "markdown",
   "id": "6e3cbf4c",
   "metadata": {},
   "source": [
    "It can be observed that the model weights, intercept and the R-squared value are all identical to the Linear Regression method of the SciKit-Learn library."
   ]
  },
  {
   "cell_type": "code",
   "execution_count": 68,
   "id": "5f97413a",
   "metadata": {},
   "outputs": [
    {
     "data": {
      "text/plain": [
       "2920.317471016256"
      ]
     },
     "execution_count": 68,
     "metadata": {},
     "output_type": "execute_result"
    }
   ],
   "source": [
    "# The model can be implemented to make predictions on validation data too.\n",
    "# Constant (intercept) must be added manually\n",
    "X_test = sm.add_constant(X_test)\n",
    "preds = model.predict(X_test)\n",
    "mean_squared_error(y_test, preds) "
   ]
  },
  {
   "cell_type": "code",
   "execution_count": null,
   "id": "3df56291",
   "metadata": {},
   "outputs": [],
   "source": []
  }
 ],
 "metadata": {
  "kernelspec": {
   "display_name": "Python 3",
   "language": "python",
   "name": "python3"
  },
  "language_info": {
   "codemirror_mode": {
    "name": "ipython",
    "version": 3
   },
   "file_extension": ".py",
   "mimetype": "text/x-python",
   "name": "python",
   "nbconvert_exporter": "python",
   "pygments_lexer": "ipython3",
   "version": "3.8.8"
  }
 },
 "nbformat": 4,
 "nbformat_minor": 5
}
